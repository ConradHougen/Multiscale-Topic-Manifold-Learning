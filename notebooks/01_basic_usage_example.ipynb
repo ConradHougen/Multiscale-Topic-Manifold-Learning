{
 "cells": [
  {
   "cell_type": "markdown",
   "metadata": {},
   "source": [
    "# MSTML Basic Usage Example\n",
    "\n",
    "This notebook demonstrates the basic usage of the Multi-Scale Topic Manifold Learning (MSTML) framework.\n",
    "\n",
    "## Overview\n",
    "\n",
    "MSTML provides a scalable method for predicting collaborative behaviors using textual data and probabilistic information geometry of author-topical interests. The framework includes:\n",
    "\n",
    "- **GDLTM**: Geometry-Driven Longitudinal Topic Model\n",
    "- **HRG**: Hierarchical Random Graph models\n",
    "- **Text Processing**: Comprehensive preprocessing utilities\n",
    "- **Network Analysis**: Tools for analyzing collaboration networks"
   ]
  },
  {
   "cell_type": "code",
   "execution_count": 2,
   "metadata": {},
   "outputs": [],
   "source": [
    "# Import necessary libraries\n",
    "import sys\n",
    "import os\n",
    "import numpy as np\n",
    "import pandas as pd\n",
    "import matplotlib.pyplot as plt\n",
    "import seaborn as sns\n",
    "\n",
    "# Import MSTML modules\n",
    "from mstml import Mstml, MstmlParams, MstmlEmbedType\n",
    "from mstml.gdltm import Gdltm, GdltmParams\n",
    "from mstml.hrg import HierarchicalRandomGraph\n",
    "from mstml.utils import *\n",
    "from mstml.text_processing import TextProcessor, create_academic_text_processor\n",
    "\n",
    "# Set up plotting\n",
    "%matplotlib inline\n",
    "plt.style.use('seaborn-v0_8')\n",
    "sns.set_palette(\"husl\")"
   ]
  },
  {
   "cell_type": "markdown",
   "metadata": {},
   "source": [
    "## 1. Text Processing Example\n",
    "\n",
    "Let's start with basic text processing functionality."
   ]
  },
  {
   "cell_type": "code",
   "execution_count": null,
   "metadata": {},
   "outputs": [],
   "source": [
    "# Create sample academic documents\n",
    "sample_documents = [\n",
    "    \"Machine learning algorithms have revolutionized data analysis in recent years.\",\n",
    "    \"Deep neural networks show promising results in natural language processing tasks.\",\n",
    "    \"Topic modeling techniques help discover hidden thematic structures in document collections.\",\n",
    "    \"Network analysis provides insights into collaboration patterns among researchers.\",\n",
    "    \"Hierarchical random graphs capture the multi-scale structure of complex networks.\"\n",
    "]\n",
    "\n",
    "# Initialize text processor\n",
    "processor = create_academic_text_processor()\n",
    "\n",
    "# Process documents\n",
    "processed_docs = processor.process_documents(sample_documents)\n",
    "\n",
    "print(\"Original documents:\")\n",
    "for i, doc in enumerate(sample_documents):\n",
    "    print(f\"{i+1}: {doc}\")\n",
    "\n",
    "print(\"\\nProcessed documents:\")\n",
    "for i, doc in enumerate(processed_docs):\n",
    "    print(f\"{i+1}: {doc}\")"
   ]
  },
  {
   "cell_type": "code",
   "execution_count": null,
   "metadata": {},
   "outputs": [],
   "source": [
    "# Get processing statistics\n",
    "stats = processor.get_statistics(processed_docs)\n",
    "print(\"Processing Statistics:\")\n",
    "for key, value in stats.items():\n",
    "    print(f\"{key}: {value}\")"
   ]
  },
  {
   "cell_type": "markdown",
   "metadata": {},
   "source": [
    "## 2. GDLTM Example\n",
    "\n",
    "Demonstrate the Geometry-Driven Longitudinal Topic Model."
   ]
  },
  {
   "cell_type": "code",
   "execution_count": null,
   "metadata": {},
   "outputs": [],
   "source": [
    "# Note: This is a simplified example.\n",
    "\n",
    "print(\"GDLTM Example:\")\n",
    "print(\"In a real scenario, you would:\")\n",
    "print(\"1. Load preprocessed data (main_df.pkl, data_words.pkl, etc.)\")\n",
    "print(\"2. Create GdltmParams with your dataset configuration\")\n",
    "print(\"3. Initialize and run the GDLTM pipeline\")\n",
    "\n",
    "# Example parameter setup (would use real data in practice)\n",
    "# gdltm_params = GdltmParams(\n",
    "#     dset=\"your_dataset\",\n",
    "#     dsub=\"subset_name\", \n",
    "#     ntopics=10,\n",
    "#     knnk=15,\n",
    "#     gamma=0.75\n",
    "# )\n",
    "\n",
    "# gdltm = Gdltm(gdltm_params)\n",
    "# gdltm.run_full_pipeline()"
   ]
  },
  {
   "cell_type": "markdown",
   "metadata": {},
   "source": [
    "## 3. Network Analysis Example\n",
    "\n",
    "Create and analyze a simple collaboration network."
   ]
  },
  {
   "cell_type": "code",
   "execution_count": null,
   "metadata": {},
   "outputs": [],
   "source": [
    "# Create sample collaboration data\n",
    "collaborations = [\n",
    "    [\"Alice\", \"Bob\", \"Charlie\"],\n",
    "    [\"Alice\", \"David\"],\n",
    "    [\"Bob\", \"Eve\", \"Frank\"],\n",
    "    [\"Charlie\", \"David\", \"Grace\"],\n",
    "    [\"Eve\", \"Grace\", \"Henry\"]\n",
    "]\n",
    "\n",
    "# Create collaboration network\n",
    "network = create_author_network(collaborations)\n",
    "\n",
    "# Compute network metrics\n",
    "metrics = compute_network_metrics(network)\n",
    "\n",
    "print(\"Network Metrics:\")\n",
    "for key, value in metrics.items():\n",
    "    print(f\"{key}: {value}\")"
   ]
  },
  {
   "cell_type": "code",
   "execution_count": null,
   "metadata": {},
   "outputs": [],
   "source": [
    "# Visualize the network\n",
    "import networkx as nx\n",
    "\n",
    "plt.figure(figsize=(10, 8))\n",
    "pos = nx.spring_layout(network, seed=42)\n",
    "\n",
    "# Draw network\n",
    "nx.draw_networkx_nodes(network, pos, node_color='lightblue', \n",
    "                      node_size=1000, alpha=0.7)\n",
    "nx.draw_networkx_labels(network, pos, font_size=12, font_weight='bold')\n",
    "\n",
    "# Draw edges with weights\n",
    "edges = network.edges()\n",
    "weights = [network[u][v]['weight'] for u, v in edges]\n",
    "nx.draw_networkx_edges(network, pos, width=[w*2 for w in weights], \n",
    "                      alpha=0.6, edge_color='gray')\n",
    "\n",
    "plt.title(\"Author Collaboration Network\")\n",
    "plt.axis('off')\n",
    "plt.tight_layout()\n",
    "plt.show()"
   ]
  },
  {
   "cell_type": "markdown",
   "metadata": {},
   "source": [
    "## 4. HRG Example\n",
    "\n",
    "Demonstrate Hierarchical Random Graph functionality."
   ]
  },
  {
   "cell_type": "code",
   "execution_count": null,
   "metadata": {},
   "outputs": [],
   "source": [
    "# Initialize HRG model with the collaboration network\n",
    "hrg = HierarchicalRandomGraph(network)\n",
    "\n",
    "print(\"Fitting HRG model...\")\n",
    "# Note: This uses a placeholder implementation\n",
    "# In practice, this would call external C++ HRG fitting code\n",
    "hrg.fit(num_iterations=10000)\n",
    "\n",
    "print(\"HRG model fitted successfully!\")\n",
    "print(f\"Model likelihood: {hrg.compute_likelihood():.2f}\")"
   ]
  },
  {
   "cell_type": "code",
   "execution_count": null,
   "metadata": {},
   "outputs": [],
   "source": [
    "# Get community structure\n",
    "communities = hrg.get_community_structure()\n",
    "print(\"Community Structure:\")\n",
    "for node, community in communities.items():\n",
    "    print(f\"{node}: Community {community}\")"
   ]
  },
  {
   "cell_type": "code",
   "execution_count": null,
   "metadata": {},
   "outputs": [],
   "source": [
    "# Predict potential new collaborations\n",
    "predictions = hrg.predict_links(num_predictions=5)\n",
    "print(\"Top 5 Link Predictions:\")\n",
    "for i, (node1, node2, prob) in enumerate(predictions, 1):\n",
    "    print(f\"{i}. {node1} - {node2}: {prob:.3f}\")"
   ]
  },
  {
   "cell_type": "markdown",
   "metadata": {},
   "source": [
    "## 5. Utility Functions Example\n",
    "\n",
    "Demonstrate various utility functions."
   ]
  },
  {
   "cell_type": "code",
   "execution_count": null,
   "metadata": {},
   "outputs": [],
   "source": [
    "# Example probability distributions\n",
    "p = np.array([0.3, 0.4, 0.2, 0.1])\n",
    "q = np.array([0.25, 0.35, 0.25, 0.15])\n",
    "\n",
    "# Compute various distance measures\n",
    "hellinger_dist = hellinger_distance(p, q)\n",
    "hellinger_sim = hellinger_similarity(p, q)\n",
    "js_div = jensen_shannon_divergence(p, q)\n",
    "cos_sim = cosine_similarity(p, q)\n",
    "\n",
    "print(\"Distance/Similarity Measures:\")\n",
    "print(f\"Hellinger Distance: {hellinger_dist:.4f}\")\n",
    "print(f\"Hellinger Similarity: {hellinger_sim:.4f}\")\n",
    "print(f\"Jensen-Shannon Divergence: {js_div:.4f}\")\n",
    "print(f\"Cosine Similarity: {cos_sim:.4f}\")"
   ]
  },
  {
   "cell_type": "code",
   "execution_count": null,
   "metadata": {},
   "outputs": [],
   "source": [
    "# Create time windows example\n",
    "import datetime\n",
    "\n",
    "# Sample dates\n",
    "dates = [\n",
    "    datetime.datetime(2020, 1, 15),\n",
    "    datetime.datetime(2020, 6, 10),\n",
    "    datetime.datetime(2021, 3, 20),\n",
    "    datetime.datetime(2021, 9, 5),\n",
    "    datetime.datetime(2022, 2, 28)\n",
    "]\n",
    "\n",
    "# Create yearly windows\n",
    "windows = create_time_windows(dates, window_size='1Y')\n",
    "\n",
    "print(\"Time Windows:\")\n",
    "for i, (start, end) in enumerate(windows, 1):\n",
    "    print(f\"Window {i}: {start.strftime('%Y-%m-%d')} to {end.strftime('%Y-%m-%d')}\")"
   ]
  },
  {
   "cell_type": "markdown",
   "metadata": {},
   "source": [
    "## Conclusion\n",
    "\n",
    "This notebook demonstrated the basic functionality of the MSTML framework:\n",
    "\n",
    "1. **Text Processing**: Comprehensive preprocessing for academic documents\n",
    "2. **GDLTM**: Geometry-driven longitudinal topic modeling\n",
    "3. **Network Analysis**: Collaboration network creation and analysis\n",
    "4. **HRG**: Hierarchical random graph modeling and link prediction\n",
    "5. **Utilities**: Various helper functions for data processing and analysis\n",
    "\n",
    "For more advanced usage and real-world examples, refer to the other notebooks in this directory and the original research papers.\n",
    "\n",
    "### Next Steps\n",
    "\n",
    "- Load your own dataset using the preprocessing utilities\n",
    "- Experiment with different GDLTM parameters\n",
    "- Try HRG ensemble methods for improved predictions\n",
    "- Explore the visualization capabilities for topic evolution"
   ]
  }
 ],
 "metadata": {
  "kernelspec": {
   "display_name": "mstml",
   "language": "python",
   "name": "python3"
  },
  "language_info": {
   "codemirror_mode": {
    "name": "ipython",
    "version": 3
   },
   "file_extension": ".py",
   "mimetype": "text/x-python",
   "name": "python",
   "nbconvert_exporter": "python",
   "pygments_lexer": "ipython3",
   "version": "3.10.18"
  }
 },
 "nbformat": 4,
 "nbformat_minor": 4
}
