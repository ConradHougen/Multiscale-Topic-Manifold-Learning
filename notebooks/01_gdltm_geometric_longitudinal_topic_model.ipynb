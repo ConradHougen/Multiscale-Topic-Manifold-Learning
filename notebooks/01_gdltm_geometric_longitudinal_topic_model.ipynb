{
 "cells": [
  {
   "metadata": {},
   "cell_type": "markdown",
   "source": [
    "# A Geometry-Driven Longitudinal Topic Model (GDLTM)\n",
    "\n",
    "This notebook demonstrates a basic call flow for longitudinal topic modeling based on the paper by Wang, Hougen, et. al. 2021 that appeared in Harvard Data Science Review (HDSR) with the title \"A Geometry-Driven Longitudinal Topic Model\".\n",
    "\n",
    "The GDLTM model is the topic modeling framework that feeds into Multiscale Topic Manifold Learning (MSTML), which extends GDLTM by addressing problems in relational topic modeling (RTM), which involve relational (network) data in conjunction with text data.\n",
    "\n",
    "GDLTM advanced the temporal topic modeling field by demonstrating the advantages of Hellinger-PHATE manifold learning in conjunction with interpretable, probabilistic models like the popular Latent Dirichlet Allocation (LDA). LDA uses a bag-of-words model for documents and treats documents as mixtures of topics. Using Bayesian networks and Bayesian inference, LDA infers the structures of latent topics as word-frequency multinomial distributions. Simultaneously, documents are represented as multinomial distributions over the latent topics. GDLTM provides advanced topic modeling which performs alignment of topics over time, after dividing a text corpus into chunks by time (e.g. publication date, though any relevant date could be used). Topic alignment over time is then visualized using Hellinger-PHATE manifolds. Hellinger-PHATE manifolds over LDA topics were found to be particularly effective at visualizing complex temporal changes within document corpora while remaining computationally simple compared to prior probabilistic methods. The resultant visualizations map topics into an intuitive embedding space that can be interpreted in a straightforward way using direct translation into word clouds and learned topic trajectories using standard shortest path algorithms. More details of the method are described in the HDSR 2021 paper."
   ],
   "id": "5fcc6efaf0fa9c1e"
  },
  {
   "metadata": {
    "ExecuteTime": {
     "end_time": "2025-08-05T03:45:50.203369Z",
     "start_time": "2025-08-05T03:45:48.166260Z"
    }
   },
   "cell_type": "code",
   "source": "from mstml.core import MstmlOrchestrator",
   "id": "initial_id",
   "outputs": [],
   "execution_count": 1
  },
  {
   "metadata": {
    "ExecuteTime": {
     "end_time": "2025-08-05T03:45:50.358211Z",
     "start_time": "2025-08-05T03:45:50.343982Z"
    }
   },
   "cell_type": "code",
   "source": [
    "# Set dataset name (matches directory name within data/)\n",
    "dataset_name = \"arxiv\"\n",
    "\n",
    "data_filters = {\n",
    "    'categories':\n",
    "        ['stat.AP',\n",
    "         'stat.CO',\n",
    "         'stat.ME',\n",
    "         'stat.OT',\n",
    "         'stat.TH',\n",
    "         'cs.LG']\n",
    "}\n",
    "\n",
    "arxiv_schema_map = {'abstract': 'raw_text',\n",
    "                    'update_date': 'date',\n",
    "                    'authors_parsed': 'authors'}"
   ],
   "id": "3b86cf01c7953761",
   "outputs": [],
   "execution_count": 2
  },
  {
   "metadata": {
    "ExecuteTime": {
     "end_time": "2025-08-05T03:45:50.388762Z",
     "start_time": "2025-08-05T03:45:50.374245Z"
    }
   },
   "cell_type": "code",
   "source": [
    "orch = MstmlOrchestrator(dataset_name=dataset_name)\n",
    "\n",
    "orch.configure_data_filters(\n",
    "    date_range={'start': '2013-01-01', 'end': '2017-12-31'},\n",
    "    categories=data_filters['categories'],\n",
    ")\n"
   ],
   "id": "49124053b1e2c645",
   "outputs": [
    {
     "name": "stderr",
     "output_type": "stream",
     "text": [
      "2025-08-04 21:45:50,377 - MSTML - INFO - Experiment directory: C:\\Users\\conra\\Documents\\GitHub\\Multi-Scale-Topic-Manifold-Learning\\experiments\\mstml_08042025_2145\n",
      "2025-08-04 21:45:50,378 - MSTML - INFO - Default components initialized: hellinger distance, PHATE embedding\n",
      "2025-08-04 21:45:50,378 - MSTML - INFO - MstmlOrchestrator initialized\n",
      "2025-08-04 21:45:50,381 - MSTML - INFO - Data filters configured\n"
     ]
    },
    {
     "data": {
      "text/plain": [
       "<mstml.core.MstmlOrchestrator at 0x1d45088dae0>"
      ]
     },
     "execution_count": 3,
     "metadata": {},
     "output_type": "execute_result"
    }
   ],
   "execution_count": 3
  },
  {
   "metadata": {
    "ExecuteTime": {
     "end_time": "2025-08-05T03:47:31.657106Z",
     "start_time": "2025-08-05T03:45:50.405573Z"
    }
   },
   "cell_type": "code",
   "source": "orch.load_raw_data(input_schema_map=arxiv_schema_map)",
   "id": "42a56002b4812b97",
   "outputs": [
    {
     "name": "stderr",
     "output_type": "stream",
     "text": [
      "2025-08-04 21:45:50,406 - MSTML - INFO - Loading raw data from C:\\Users\\conra\\Documents\\GitHub\\Multi-Scale-Topic-Manifold-Learning\\data\\arxiv/original/ (no filters)\n",
      "2025-08-04 21:45:50,407 - MSTML - INFO - Discovered 1 supported file(s) in C:\\Users\\conra\\Documents\\GitHub\\Multi-Scale-Topic-Manifold-Learning\\data\\arxiv\\original\n",
      "2025-08-04 21:45:50,408 - MSTML - INFO - Auto-discovered 1 file(s): ['arxiv-metadata-oai-snapshot.json']\n",
      "C:\\Users\\conra\\Documents\\GitHub\\Multi-Scale-Topic-Manifold-Learning\\data\\arxiv\\original already exists. Use `overwrite=True` to recreate it.\n",
      "C:\\Users\\conra\\Documents\\GitHub\\Multi-Scale-Topic-Manifold-Learning\\data\\arxiv\\clean already exists. Use `overwrite=True` to recreate it.\n",
      "C:\\Users\\conra\\Documents\\GitHub\\Multi-Scale-Topic-Manifold-Learning\\data\\arxiv\\networks already exists. Use `overwrite=True` to recreate it.\n"
     ]
    },
    {
     "name": "stdout",
     "output_type": "stream",
     "text": [
      "Initialized ID pool with 9000000 IDs (7 digits)\n",
      "Setting up data directory for arxiv at C:\\Users\\conra\\Documents\\GitHub\\Multi-Scale-Topic-Manifold-Learning\\data...\n",
      "C:\\Users\\conra\\Documents\\GitHub\\Multi-Scale-Topic-Manifold-Learning\\data\\arxiv\\original already exists. Use `overwrite=True` to recreate it.\n",
      "C:\\Users\\conra\\Documents\\GitHub\\Multi-Scale-Topic-Manifold-Learning\\data\\arxiv\\clean already exists. Use `overwrite=True` to recreate it.\n",
      "C:\\Users\\conra\\Documents\\GitHub\\Multi-Scale-Topic-Manifold-Learning\\data\\arxiv\\networks already exists. Use `overwrite=True` to recreate it.\n",
      "Found file in dataset original directory: C:\\Users\\conra\\Documents\\GitHub\\Multi-Scale-Topic-Manifold-Learning\\data\\arxiv\\original\\arxiv-metadata-oai-snapshot.json\n",
      "Loaded 2776569 entries from C:\\Users\\conra\\Documents\\GitHub\\Multi-Scale-Topic-Manifold-Learning\\data\\arxiv\\original\\arxiv-metadata-oai-snapshot.json\n",
      "Total loaded: 2776569 entries from 1 file(s)\n",
      "Sample entry keys: ['id', 'submitter', 'authors', 'title', 'comments', 'journal-ref', 'doi', 'report-no', 'categories', 'license', 'abstract', 'versions', 'update_date', 'authors_parsed']\n",
      "Sample entry: {'id': '0704.0001', 'submitter': 'Pavel Nadolsky', 'authors': \"C. Bal\\\\'azs, E. L. Berger, P. M. Nadolsky, C.-P. Yuan\"}\n",
      "Using field mapping: {'abstract': 'raw_text', 'update_date': 'date', 'authors_parsed': 'authors'}\n",
      "Row 0 extracted: title='Calculation of prompt diphoton production cross se...', date=2008-11-26, raw_text_len=980\n",
      "Row 1 extracted: title='Sparsity-certifying Graph Decompositions...', date=2008-12-13, raw_text_len=795\n",
      "Row 2 extracted: title='The evolution of the Earth-Moon system based on th...', date=2008-01-13, raw_text_len=877\n",
      "Length of rows after converting to schema: 2776569\n",
      "Validation check - Non-null mask: 2776569/2776569 rows pass\n",
      "  Column 'title': 2776569/2776569 non-null, dtype: object\n",
      "  Column 'date': 2776569/2776569 non-null, dtype: object\n",
      "  Column 'raw_text': 2776569/2776569 non-null, dtype: object\n",
      "  Column 'author_names': 2776569/2776569 non-null, dtype: object\n",
      "  Type check 'title' (str): 2776569/2776569 pass\n",
      "  Type check 'date' (date): 2776569/2776569 pass\n",
      "  Type check 'raw_text' (str): 2776569/2776569 pass\n",
      "  Type check 'author_names' (list): 2776569/2776569 pass\n",
      "Final validation: 2776569/2776569 rows valid\n",
      "Validation complete: 2776569/2776569 rows valid, 0 invalid.\n"
     ]
    },
    {
     "name": "stderr",
     "output_type": "stream",
     "text": [
      "2025-08-04 21:47:31,650 - MSTML - INFO - Loaded 2776569 raw documents (no filters, no author disambiguation)\n"
     ]
    },
    {
     "data": {
      "text/plain": [
       "<mstml.core.MstmlOrchestrator at 0x1d45088dae0>"
      ]
     },
     "execution_count": 4,
     "metadata": {},
     "output_type": "execute_result"
    }
   ],
   "execution_count": 4
  },
  {
   "metadata": {
    "ExecuteTime": {
     "end_time": "2025-08-05T03:47:31.721174Z",
     "start_time": "2025-08-05T03:47:31.706990Z"
    }
   },
   "cell_type": "code",
   "source": "print(f\"Sample categories: {orch.documents_df['categories'].iloc[0]}\")",
   "id": "49cb045b99c4e50",
   "outputs": [
    {
     "name": "stdout",
     "output_type": "stream",
     "text": [
      "Sample categories: ['math.HO']\n"
     ]
    }
   ],
   "execution_count": 5
  },
  {
   "metadata": {
    "ExecuteTime": {
     "end_time": "2025-08-05T03:47:31.783340Z",
     "start_time": "2025-08-05T03:47:31.768177Z"
    }
   },
   "cell_type": "code",
   "source": "orch.data_loader.df.iloc[1]['categories']",
   "id": "10ef185c35bb99cb",
   "outputs": [
    {
     "data": {
      "text/plain": [
       "['math.CO', 'cs.CG']"
      ]
     },
     "execution_count": 6,
     "metadata": {},
     "output_type": "execute_result"
    }
   ],
   "execution_count": 6
  },
  {
   "metadata": {
    "ExecuteTime": {
     "end_time": "2025-08-05T03:47:33.783888Z",
     "start_time": "2025-08-05T03:47:31.799843Z"
    }
   },
   "cell_type": "code",
   "source": "orch.apply_data_filters()",
   "id": "5c49ece254242a19",
   "outputs": [
    {
     "name": "stderr",
     "output_type": "stream",
     "text": [
      "2025-08-04 21:47:31,800 - MSTML - INFO - Applying filters to 2776569 documents\n",
      "2025-08-04 21:47:31,801 - MSTML - INFO - Using pending filters: ['date_range', 'categories']\n",
      "2025-08-04 21:47:31,985 - MSTML - INFO - Applying filters: ['date_range', 'categories']\n",
      "2025-08-04 21:47:31,986 - MSTML - INFO - Applying filter 'date_range' with config: {'start': '2013-01-01', 'end': '2017-12-31'}\n"
     ]
    },
    {
     "name": "stdout",
     "output_type": "stream",
     "text": [
      "   Date filter: >= 2013-01-01\n",
      "   Date filter: <= 2017-12-31\n"
     ]
    },
    {
     "name": "stderr",
     "output_type": "stream",
     "text": [
      "2025-08-04 21:47:32,665 - MSTML - INFO - Filter 'date_range': 628689/2776569 documents retained (2147880 removed)\n",
      "2025-08-04 21:47:32,666 - MSTML - INFO - Applying filter 'categories' with config: ['stat.AP', 'stat.CO', 'stat.ME', 'stat.OT', 'stat.TH', 'cs.LG']\n"
     ]
    },
    {
     "name": "stdout",
     "output_type": "stream",
     "text": [
      "   Categories filter: looking for {'stat.OT', 'stat.TH', 'stat.AP', 'stat.CO', 'stat.ME', 'cs.LG'} in column 'categories'\n",
      "   Sample category values: [['math.NA'], ['quant-ph', 'physics.optics'], ['math.MG', 'math.CA', 'math.DG'], ['cond-mat.stat-mech', 'cs.SI', 'physics.soc-ph'], ['math-ph', 'cond-mat.stat-mech', 'math.MP']]\n",
      "   Sample category types: ['list', 'list', 'list', 'list', 'list']\n"
     ]
    },
    {
     "name": "stderr",
     "output_type": "stream",
     "text": [
      "2025-08-04 21:47:33,630 - MSTML - INFO - Filter 'categories': 26452/628689 documents retained (602237 removed)\n",
      "2025-08-04 21:47:33,764 - MSTML - INFO - Total filtering result: 26452/2776569 documents retained (2750117 removed)\n"
     ]
    },
    {
     "name": "stdout",
     "output_type": "stream",
     "text": [
      "   Categories filter applied: 26452/628689 rows retained\n"
     ]
    },
    {
     "data": {
      "text/plain": [
       "<mstml.core.MstmlOrchestrator at 0x1d45088dae0>"
      ]
     },
     "execution_count": 7,
     "metadata": {},
     "output_type": "execute_result"
    }
   ],
   "execution_count": 7
  },
  {
   "metadata": {
    "ExecuteTime": {
     "end_time": "2025-08-05T03:47:33.862065Z",
     "start_time": "2025-08-05T03:47:33.847164Z"
    }
   },
   "cell_type": "code",
   "source": "len(orch.documents_df)",
   "id": "b51a095bcf8e84d9",
   "outputs": [
    {
     "data": {
      "text/plain": [
       "26452"
      ]
     },
     "execution_count": 8,
     "metadata": {},
     "output_type": "execute_result"
    }
   ],
   "execution_count": 8
  },
  {
   "metadata": {
    "ExecuteTime": {
     "end_time": "2025-08-05T03:47:33.893699Z",
     "start_time": "2025-08-05T03:47:33.880128Z"
    }
   },
   "cell_type": "code",
   "source": "orch.documents_df.tail()",
   "id": "dabad7009e23413b",
   "outputs": [
    {
     "data": {
      "text/plain": [
       "                                                    title       date  \\\n",
       "791227  Gap Safe screening rules for sparsity enforcin... 2017-12-29   \n",
       "927586         Learning to Run with Actor-Critic Ensemble 2017-12-29   \n",
       "927931  Predicting protein-protein interactions based ... 2017-12-29   \n",
       "872374  An Online Learning Approach to Buying and Sell... 2017-12-29   \n",
       "928598  Parallel Active Subspace Decomposition for Sca... 2017-12-29   \n",
       "\n",
       "                                                 raw_text  \\\n",
       "791227  In high dimensional regression settings, spars...   \n",
       "927586  We introduce an Actor-Critic Ensemble(ACE) met...   \n",
       "927931  Protein-Protein Interactions (PPIs) perform es...   \n",
       "872374  We adopt the perspective of an aggregator, whi...   \n",
       "928598  Tensor robust principal component analysis (TR...   \n",
       "\n",
       "                                             author_names author_ids  \\\n",
       "791227  [EUGENE, NDIAYE, OLIVIER, FERCOQ, ALEXANDRE, G...       None   \n",
       "927586  [ZHEWEI, HUANG, SHUCHANG, ZHOU, BOER, ZHUANG, ...       None   \n",
       "927931  [SAMANEH, AGHAJANBAGLO, SOBHAN, MOOSAVI, MASEU...       None   \n",
       "872374                      [KIA, KHEZELI, EILYAN, BITAR]       None   \n",
       "928598               [JONATHAN Q., JIANG, MICHAEL K., NG]       None   \n",
       "\n",
       "       preprocessed_text                          categories  \n",
       "791227              None  [stat.ML, cs.LG, math.OC, stat.CO]  \n",
       "927586              None                             [cs.LG]  \n",
       "927931              None                   [q-bio.QM, cs.LG]  \n",
       "872374              None                      [cs.SY, cs.LG]  \n",
       "928598              None             [cs.NA, cs.LG, math.NA]  "
      ],
      "text/html": [
       "<div>\n",
       "<style scoped>\n",
       "    .dataframe tbody tr th:only-of-type {\n",
       "        vertical-align: middle;\n",
       "    }\n",
       "\n",
       "    .dataframe tbody tr th {\n",
       "        vertical-align: top;\n",
       "    }\n",
       "\n",
       "    .dataframe thead th {\n",
       "        text-align: right;\n",
       "    }\n",
       "</style>\n",
       "<table border=\"1\" class=\"dataframe\">\n",
       "  <thead>\n",
       "    <tr style=\"text-align: right;\">\n",
       "      <th></th>\n",
       "      <th>title</th>\n",
       "      <th>date</th>\n",
       "      <th>raw_text</th>\n",
       "      <th>author_names</th>\n",
       "      <th>author_ids</th>\n",
       "      <th>preprocessed_text</th>\n",
       "      <th>categories</th>\n",
       "    </tr>\n",
       "  </thead>\n",
       "  <tbody>\n",
       "    <tr>\n",
       "      <th>791227</th>\n",
       "      <td>Gap Safe screening rules for sparsity enforcin...</td>\n",
       "      <td>2017-12-29</td>\n",
       "      <td>In high dimensional regression settings, spars...</td>\n",
       "      <td>[EUGENE, NDIAYE, OLIVIER, FERCOQ, ALEXANDRE, G...</td>\n",
       "      <td>None</td>\n",
       "      <td>None</td>\n",
       "      <td>[stat.ML, cs.LG, math.OC, stat.CO]</td>\n",
       "    </tr>\n",
       "    <tr>\n",
       "      <th>927586</th>\n",
       "      <td>Learning to Run with Actor-Critic Ensemble</td>\n",
       "      <td>2017-12-29</td>\n",
       "      <td>We introduce an Actor-Critic Ensemble(ACE) met...</td>\n",
       "      <td>[ZHEWEI, HUANG, SHUCHANG, ZHOU, BOER, ZHUANG, ...</td>\n",
       "      <td>None</td>\n",
       "      <td>None</td>\n",
       "      <td>[cs.LG]</td>\n",
       "    </tr>\n",
       "    <tr>\n",
       "      <th>927931</th>\n",
       "      <td>Predicting protein-protein interactions based ...</td>\n",
       "      <td>2017-12-29</td>\n",
       "      <td>Protein-Protein Interactions (PPIs) perform es...</td>\n",
       "      <td>[SAMANEH, AGHAJANBAGLO, SOBHAN, MOOSAVI, MASEU...</td>\n",
       "      <td>None</td>\n",
       "      <td>None</td>\n",
       "      <td>[q-bio.QM, cs.LG]</td>\n",
       "    </tr>\n",
       "    <tr>\n",
       "      <th>872374</th>\n",
       "      <td>An Online Learning Approach to Buying and Sell...</td>\n",
       "      <td>2017-12-29</td>\n",
       "      <td>We adopt the perspective of an aggregator, whi...</td>\n",
       "      <td>[KIA, KHEZELI, EILYAN, BITAR]</td>\n",
       "      <td>None</td>\n",
       "      <td>None</td>\n",
       "      <td>[cs.SY, cs.LG]</td>\n",
       "    </tr>\n",
       "    <tr>\n",
       "      <th>928598</th>\n",
       "      <td>Parallel Active Subspace Decomposition for Sca...</td>\n",
       "      <td>2017-12-29</td>\n",
       "      <td>Tensor robust principal component analysis (TR...</td>\n",
       "      <td>[JONATHAN Q., JIANG, MICHAEL K., NG]</td>\n",
       "      <td>None</td>\n",
       "      <td>None</td>\n",
       "      <td>[cs.NA, cs.LG, math.NA]</td>\n",
       "    </tr>\n",
       "  </tbody>\n",
       "</table>\n",
       "</div>"
      ]
     },
     "execution_count": 9,
     "metadata": {},
     "output_type": "execute_result"
    }
   ],
   "execution_count": 9
  },
  {
   "metadata": {
    "ExecuteTime": {
     "end_time": "2025-08-05T03:48:28.127796Z",
     "start_time": "2025-08-05T03:47:33.956046Z"
    }
   },
   "cell_type": "code",
   "source": "orch.preprocess_text()",
   "id": "af06bb40d56d50af",
   "outputs": [
    {
     "name": "stderr",
     "output_type": "stream",
     "text": [
      "2025-08-04 21:47:33,958 - MSTML - INFO - Starting comprehensive text preprocessing pipeline\n"
     ]
    },
    {
     "name": "stdout",
     "output_type": "stream",
     "text": [
      "Starting text preprocessing pipeline\n",
      "Tokenizing documents\n",
      "Applying lemmatization using multiprocessing\n",
      "Building initial vocabulary dictionary\n",
      "Applying frequency filtering (low_thresh=1, high_frac=0.995)\n",
      "Debug: Initial vocabulary size: 38379\n",
      "Debug: Tokens to cut: 18656\n",
      "Debug: Approved tokens: 19330\n",
      "Debug: Documents after filtering - Total: 26452, Non-empty: 26452\n",
      "Vocab length: 19330\n",
      "Training LDA model with 50 topics and 1 passes - this may take a moment...\n",
      "Training LDA with 26452 non-empty documents, vocabulary size: 19330\n",
      "LDA model training completed\n",
      "Computing term relevancy scores (λ=0.6, top_n=2000)\n",
      "Applying relevancy-based vocabulary reduction\n",
      "Performing final cleanup and dictionary rebuild\n"
     ]
    },
    {
     "name": "stderr",
     "output_type": "stream",
     "text": [
      "2025-08-04 21:48:24,571 - MSTML - INFO - Text preprocessing complete. Initial vocab: 38379, After filtering: 19330, Final vocab: 9579\n",
      "2025-08-04 21:48:24,575 - MSTML - INFO - Saved vocabulary dictionary with 9579 terms to id2word.pkl\n",
      "2025-08-04 21:48:24,615 - MSTML - INFO - Copied 5 essential files to experiment directory: ['main_df.pkl', 'id2word.pkl', 'author_to_authorId.pkl', 'authorId_to_author.pkl', 'authorId_to_df_row.pkl']\n"
     ]
    },
    {
     "name": "stdout",
     "output_type": "stream",
     "text": [
      "Text preprocessing completed successfully for 26452 documents\n",
      "Data successfully written to 'C:\\Users\\conra\\Documents\\GitHub\\Multi-Scale-Topic-Manifold-Learning\\data\\arxiv\\clean\\id2word.pkl'.\n",
      "Data successfully written to 'C:\\Users\\conra\\Documents\\GitHub\\Multi-Scale-Topic-Manifold-Learning\\data\\arxiv\\clean\\main_df.pkl'.\n"
     ]
    },
    {
     "name": "stderr",
     "output_type": "stream",
     "text": [
      "2025-08-04 21:48:28,112 - MSTML - INFO - Updated main_df.pkl in both clean directory and experiment directory (26452 rows)\n"
     ]
    },
    {
     "name": "stdout",
     "output_type": "stream",
     "text": [
      "Data successfully written to 'C:\\Users\\conra\\Documents\\GitHub\\Multi-Scale-Topic-Manifold-Learning\\experiments\\mstml_08042025_2145\\main_df.pkl'.\n"
     ]
    },
    {
     "data": {
      "text/plain": [
       "<mstml.core.MstmlOrchestrator at 0x1d45088dae0>"
      ]
     },
     "execution_count": 10,
     "metadata": {},
     "output_type": "execute_result"
    }
   ],
   "execution_count": 10
  },
  {
   "metadata": {
    "ExecuteTime": {
     "end_time": "2025-08-05T03:48:40.147240Z",
     "start_time": "2025-08-05T03:48:28.191613Z"
    }
   },
   "cell_type": "code",
   "source": "orch.apply_author_disambiguation()",
   "id": "5a8b35bbe3f73552",
   "outputs": [
    {
     "name": "stderr",
     "output_type": "stream",
     "text": [
      "2025-08-04 21:48:33,257 - MSTML - INFO - Applying author disambiguation to 26452 documents\n"
     ]
    },
    {
     "name": "stdout",
     "output_type": "stream",
     "text": [
      "Initialized ID pool with 9000000 IDs (7 digits)\n"
     ]
    },
    {
     "name": "stderr",
     "output_type": "stream",
     "text": [
      "Skipping document at index 1155 with 21 authors (max: 20)\n",
      "Skipping document at index 1600 with 28 authors (max: 20)\n",
      "Skipping document at index 5902 with 67 authors (max: 20)\n",
      "Skipping document at index 13336 with 40 authors (max: 20)\n",
      "Skipping document at index 14201 with 113 authors (max: 20)\n",
      "Skipping document at index 16179 with 22 authors (max: 20)\n",
      "Skipping document at index 16452 with 61 authors (max: 20)\n",
      "Skipping document at index 16918 with 31 authors (max: 20)\n",
      "Skipping document at index 20699 with 75 authors (max: 20)\n",
      "Skipping document at index 23231 with 25 authors (max: 20)\n",
      "Skipping document at index 25732 with 22 authors (max: 20)\n"
     ]
    },
    {
     "name": "stdout",
     "output_type": "stream",
     "text": [
      "Dataframe sync: no changes needed\n",
      "Skipping document at index 1155 with 21 authors (max: 20)\n",
      "Skipping document at index 1600 with 28 authors (max: 20)\n",
      "Skipping document at index 5902 with 67 authors (max: 20)\n",
      "Skipping document at index 13336 with 40 authors (max: 20)\n",
      "Skipping document at index 14201 with 113 authors (max: 20)\n",
      "Skipping document at index 16179 with 22 authors (max: 20)\n",
      "Skipping document at index 16452 with 61 authors (max: 20)\n",
      "Skipping document at index 16918 with 31 authors (max: 20)\n",
      "Skipping document at index 20699 with 75 authors (max: 20)\n",
      "Skipping document at index 23231 with 25 authors (max: 20)\n",
      "Skipping document at index 25732 with 22 authors (max: 20)\n",
      "Number of authors prior to disambiguation: 37270\n",
      "Pool has 9000000 available IDs for estimated need of 29816\n",
      "Number of unique prefixes: 455\n",
      "Group 0: matrix shape (2, 25), matches 2\n",
      "Group 1: matrix shape (1, 12), matches 1\n",
      "Group 2: matrix shape (6, 55), matches 6\n",
      "Group 3: matrix shape (3, 27), matches 3\n",
      "Group 4: matrix shape (191, 1192), matches 191\n",
      "Group 5: matrix shape (59, 398), matches 63\n",
      "Group 6: matrix shape (142, 922), matches 142\n",
      "Group 7: matrix shape (8, 89), matches 8\n",
      "Group 8: matrix shape (210, 1212), matches 216\n",
      "Group 9: matrix shape (1, 12), matches 1\n",
      "Group 10: matrix shape (9, 103), matches 9\n",
      "Group 11: matrix shape (24, 207), matches 26\n",
      "Group 12: matrix shape (61, 417), matches 61\n",
      "Group 13: matrix shape (36, 316), matches 36\n",
      "Group 14: matrix shape (12, 107), matches 12\n",
      "Group 15: matrix shape (55, 423), matches 55\n",
      "Group 16: matrix shape (819, 2913), matches 835\n",
      "Group 17: matrix shape (201, 1165), matches 203\n",
      "Group 18: matrix shape (1076, 3477), matches 1090\n",
      "Group 19: matrix shape (7, 58), matches 7\n",
      "Group 20: matrix shape (12, 122), matches 12\n",
      "Group 21: matrix shape (292, 1669), matches 292\n",
      "Group 22: matrix shape (120, 838), matches 120\n",
      "Group 23: matrix shape (40, 351), matches 40\n",
      "Group 24: matrix shape (64, 464), matches 70\n",
      "Group 25: matrix shape (38, 319), matches 38\n",
      "Group 26: matrix shape (3, 24), matches 3\n",
      "Group 27: matrix shape (11, 81), matches 11\n",
      "Group 28: matrix shape (31, 297), matches 31\n",
      "Group 29: matrix shape (19, 175), matches 19\n",
      "Group 30: matrix shape (1, 17), matches 1\n",
      "Group 31: matrix shape (1, 7), matches 1\n",
      "Group 32: matrix shape (2, 26), matches 2\n",
      "Group 33: matrix shape (2, 19), matches 2\n",
      "Group 34: matrix shape (47, 358), matches 47\n",
      "Group 35: matrix shape (199, 1262), matches 205\n",
      "Group 36: matrix shape (313, 1640), matches 319\n",
      "Group 37: matrix shape (34, 296), matches 34\n",
      "Group 38: matrix shape (107, 556), matches 107\n",
      "Group 39: matrix shape (20, 170), matches 20\n",
      "Group 40: matrix shape (19, 175), matches 19\n",
      "Group 41: matrix shape (134, 754), matches 134\n",
      "Group 42: matrix shape (278, 1385), matches 290\n",
      "Group 43: matrix shape (19, 180), matches 19\n",
      "Group 44: matrix shape (14, 109), matches 14\n",
      "Group 45: matrix shape (3, 30), matches 3\n",
      "Group 46: matrix shape (1, 16), matches 1\n",
      "Group 47: matrix shape (1, 8), matches 1\n",
      "Group 48: matrix shape (5, 53), matches 5\n",
      "Group 49: matrix shape (1, 14), matches 1\n",
      "Group 50: matrix shape (1, 15), matches 1\n",
      "Group 51: matrix shape (1, 11), matches 1\n",
      "Group 52: matrix shape (3, 23), matches 3\n",
      "Group 53: matrix shape (1, 13), matches 1\n",
      "Group 54: matrix shape (86, 579), matches 88\n",
      "Group 55: matrix shape (290, 1448), matches 292\n",
      "Group 56: matrix shape (53, 434), matches 55\n",
      "Group 57: matrix shape (984, 2707), matches 998\n",
      "Group 58: matrix shape (24, 208), matches 26\n",
      "Group 59: matrix shape (1, 16), matches 1\n",
      "Group 60: matrix shape (128, 803), matches 128\n",
      "Group 61: matrix shape (121, 774), matches 125\n",
      "Group 62: matrix shape (44, 319), matches 44\n",
      "Group 63: matrix shape (3, 24), matches 3\n",
      "Group 64: matrix shape (18, 122), matches 20\n",
      "Group 65: matrix shape (17, 140), matches 17\n",
      "Group 66: matrix shape (1, 13), matches 1\n",
      "Group 67: matrix shape (1, 10), matches 1\n",
      "Group 68: matrix shape (30, 232), matches 30\n",
      "Group 69: matrix shape (1, 9), matches 1\n",
      "Group 70: matrix shape (1, 16), matches 1\n",
      "Group 71: matrix shape (5, 38), matches 5\n",
      "Group 72: matrix shape (96, 704), matches 96\n",
      "Group 73: matrix shape (1014, 2971), matches 1032\n"
     ]
    },
    {
     "name": "stderr",
     "output_type": "stream",
     "text": [
      "C:\\Users\\conra\\Documents\\GitHub\\Multi-Scale-Topic-Manifold-Learning\\mstml\\author_disambiguation.py:408: DeprecationWarning: `awesome_cossim_topn` function will be removed and (partially) replaced with `sp_matmul_topn`. See the migration guide at 'https://github.com/ing-bank/sparse_dot_topn#readme'.\n",
      "  matches = awesome_cossim_topn(\n"
     ]
    },
    {
     "name": "stdout",
     "output_type": "stream",
     "text": [
      "Group 74: matrix shape (1, 7), matches 1\n",
      "Group 75: matrix shape (215, 1287), matches 215\n",
      "Group 76: matrix shape (31, 274), matches 31\n",
      "Group 77: matrix shape (221, 1317), matches 229\n",
      "Group 78: matrix shape (10, 119), matches 10\n",
      "Group 79: matrix shape (43, 312), matches 43\n",
      "Group 80: matrix shape (214, 1164), matches 216\n",
      "Group 81: matrix shape (1, 8), matches 1\n",
      "Group 82: matrix shape (24, 233), matches 24\n",
      "Group 83: matrix shape (43, 318), matches 43\n",
      "Group 84: matrix shape (2, 26), matches 2\n",
      "Group 85: matrix shape (1, 17), matches 1\n",
      "Group 86: matrix shape (7, 57), matches 7\n",
      "Group 87: matrix shape (2, 25), matches 2\n",
      "Group 88: matrix shape (1, 7), matches 1\n",
      "Group 89: matrix shape (1, 10), matches 1\n",
      "Group 90: matrix shape (2, 21), matches 2\n",
      "Group 91: matrix shape (68, 487), matches 70\n",
      "Group 92: matrix shape (7, 67), matches 7\n",
      "Group 93: matrix shape (5, 71), matches 5\n",
      "Group 94: matrix shape (4, 42), matches 4\n",
      "Group 95: matrix shape (128, 800), matches 134\n",
      "Group 96: matrix shape (4, 49), matches 4\n",
      "Group 97: matrix shape (16, 161), matches 16\n",
      "Group 98: matrix shape (5, 52), matches 5\n",
      "Group 99: matrix shape (26, 222), matches 26\n",
      "Group 100: matrix shape (20, 209), matches 20\n",
      "Group 101: matrix shape (13, 112), matches 13\n",
      "Group 102: matrix shape (166, 1124), matches 166\n",
      "Group 103: matrix shape (155, 925), matches 157\n",
      "Group 104: matrix shape (51, 424), matches 51\n",
      "Group 105: matrix shape (1, 15), matches 1\n",
      "Group 106: matrix shape (228, 1271), matches 232\n",
      "Group 107: matrix shape (25, 252), matches 25\n",
      "Group 108: matrix shape (27, 202), matches 27\n",
      "Group 109: matrix shape (44, 342), matches 44\n",
      "Group 110: matrix shape (78, 555), matches 78\n",
      "Group 111: matrix shape (8, 82), matches 8\n",
      "Group 112: matrix shape (10, 79), matches 10\n",
      "Group 113: matrix shape (6, 68), matches 6\n",
      "Group 114: matrix shape (3, 22), matches 3\n",
      "Group 115: matrix shape (55, 381), matches 55\n",
      "Group 116: matrix shape (223, 1250), matches 223\n",
      "Group 117: matrix shape (207, 1042), matches 207\n",
      "Group 118: matrix shape (47, 387), matches 47\n",
      "Group 119: matrix shape (1, 13), matches 1\n",
      "Group 120: matrix shape (80, 525), matches 82\n",
      "Group 121: matrix shape (1, 8), matches 1\n",
      "Group 122: matrix shape (20, 205), matches 22\n",
      "Group 123: matrix shape (334, 1536), matches 346\n",
      "Group 124: matrix shape (29, 183), matches 29\n",
      "Group 125: matrix shape (5, 54), matches 5\n",
      "Group 126: matrix shape (1, 13), matches 1\n",
      "Group 127: matrix shape (1, 11), matches 1\n",
      "Group 128: matrix shape (3, 16), matches 3\n",
      "Group 129: matrix shape (96, 664), matches 96\n",
      "Group 130: matrix shape (209, 1175), matches 211\n",
      "Group 131: matrix shape (265, 1430), matches 273\n",
      "Group 132: matrix shape (1, 11), matches 1\n",
      "Group 133: matrix shape (15, 166), matches 15\n",
      "Group 134: matrix shape (194, 1102), matches 196\n",
      "Group 135: matrix shape (1, 16), matches 1\n",
      "Group 136: matrix shape (12, 89), matches 12\n",
      "Group 137: matrix shape (54, 436), matches 56\n",
      "Group 138: matrix shape (106, 661), matches 108\n",
      "Group 139: matrix shape (228, 1079), matches 228\n",
      "Group 140: matrix shape (6, 70), matches 6\n",
      "Group 141: matrix shape (12, 83), matches 12\n",
      "Group 142: matrix shape (6, 43), matches 6\n",
      "Group 143: matrix shape (1, 13), matches 1\n",
      "Group 144: matrix shape (9, 78), matches 9\n",
      "Group 145: matrix shape (4, 43), matches 4\n",
      "Group 146: matrix shape (6, 52), matches 6\n",
      "Group 147: matrix shape (1, 14), matches 1\n",
      "Group 148: matrix shape (3, 20), matches 3\n",
      "Group 149: matrix shape (62, 454), matches 64\n",
      "Group 150: matrix shape (518, 2043), matches 520\n",
      "Group 151: matrix shape (1, 9), matches 1\n",
      "Group 152: matrix shape (221, 1265), matches 221\n",
      "Group 153: matrix shape (95, 613), matches 97\n",
      "Group 154: matrix shape (195, 895), matches 197\n",
      "Group 155: matrix shape (5, 61), matches 5\n",
      "Group 156: matrix shape (18, 118), matches 18\n",
      "Group 157: matrix shape (167, 722), matches 167\n",
      "Group 158: matrix shape (7, 59), matches 7\n",
      "Group 159: matrix shape (45, 246), matches 45\n",
      "Group 160: matrix shape (4, 41), matches 4\n",
      "Group 161: matrix shape (19, 178), matches 19\n",
      "Group 162: matrix shape (1, 8), matches 1\n",
      "Group 163: matrix shape (1, 12), matches 1\n",
      "Group 164: matrix shape (5, 37), matches 5\n",
      "Group 165: matrix shape (31, 293), matches 31\n",
      "Group 166: matrix shape (60, 395), matches 62\n",
      "Group 167: matrix shape (10, 99), matches 10\n",
      "Group 168: matrix shape (4, 41), matches 4\n",
      "Group 169: matrix shape (11, 87), matches 11\n",
      "Group 170: matrix shape (4, 41), matches 4\n",
      "Group 171: matrix shape (3, 41), matches 3\n",
      "Group 172: matrix shape (44, 316), matches 44\n",
      "Group 173: matrix shape (2, 17), matches 2\n",
      "Group 174: matrix shape (2, 22), matches 2\n",
      "Group 175: matrix shape (6, 77), matches 6\n",
      "Group 176: matrix shape (59, 462), matches 59\n",
      "Group 177: matrix shape (15, 152), matches 15\n",
      "Group 178: matrix shape (66, 535), matches 66\n",
      "Group 179: matrix shape (37, 310), matches 37\n",
      "Group 180: matrix shape (1, 14), matches 1\n",
      "Group 181: matrix shape (1, 14), matches 1\n",
      "Group 182: matrix shape (44, 372), matches 44\n",
      "Group 183: matrix shape (68, 561), matches 68\n",
      "Group 184: matrix shape (13, 109), matches 13\n",
      "Group 185: matrix shape (7, 70), matches 7\n",
      "Group 186: matrix shape (61, 413), matches 61\n",
      "Group 187: matrix shape (2, 16), matches 2\n",
      "Group 188: matrix shape (4, 47), matches 4\n",
      "Group 189: matrix shape (2, 21), matches 2\n",
      "Group 190: matrix shape (1, 16), matches 1\n",
      "Group 191: matrix shape (4, 52), matches 4\n",
      "Group 192: matrix shape (2, 19), matches 2\n",
      "Group 193: matrix shape (4, 37), matches 4\n",
      "Group 194: matrix shape (175, 1043), matches 177\n",
      "Group 195: matrix shape (673, 2615), matches 691\n",
      "Group 196: matrix shape (1, 6), matches 1\n",
      "Group 197: matrix shape (416, 1868), matches 426\n",
      "Group 198: matrix shape (5, 54), matches 5\n",
      "Group 199: matrix shape (577, 1057), matches 579\n",
      "Group 200: matrix shape (963, 3029), matches 997\n",
      "Group 201: matrix shape (1, 8), matches 1\n",
      "Group 202: matrix shape (381, 1598), matches 381\n",
      "Group 203: matrix shape (7, 83), matches 7\n",
      "Group 204: matrix shape (5, 53), matches 5\n",
      "Group 205: matrix shape (23, 161), matches 23\n",
      "Group 206: matrix shape (3, 28), matches 3\n",
      "Group 207: matrix shape (14, 115), matches 14\n",
      "Group 208: matrix shape (2, 22), matches 2\n",
      "Group 209: matrix shape (18, 123), matches 18\n",
      "Group 210: matrix shape (3, 39), matches 3\n",
      "Group 211: matrix shape (5, 40), matches 5\n",
      "Group 212: matrix shape (70, 485), matches 70\n",
      "Group 213: matrix shape (395, 1892), matches 397\n",
      "Group 214: matrix shape (272, 1318), matches 272\n",
      "Group 215: matrix shape (1, 11), matches 1\n",
      "Group 216: matrix shape (27, 262), matches 27\n",
      "Group 217: matrix shape (88, 701), matches 88\n",
      "Group 218: matrix shape (4, 44), matches 4\n",
      "Group 219: matrix shape (20, 159), matches 20\n",
      "Group 220: matrix shape (1, 16), matches 1\n",
      "Group 221: matrix shape (125, 834), matches 125\n",
      "Group 222: matrix shape (1, 15), matches 1\n",
      "Group 223: matrix shape (86, 607), matches 88\n",
      "Group 224: matrix shape (5, 60), matches 5\n",
      "Group 225: matrix shape (82, 481), matches 82\n",
      "Group 226: matrix shape (14, 134), matches 14\n",
      "Group 227: matrix shape (42, 278), matches 42\n",
      "Group 228: matrix shape (1, 9), matches 1\n",
      "Group 229: matrix shape (2, 19), matches 2\n",
      "Group 230: matrix shape (1, 11), matches 1\n",
      "Group 231: matrix shape (3, 24), matches 3\n",
      "Group 232: matrix shape (65, 427), matches 67\n",
      "Group 233: matrix shape (252, 1350), matches 256\n",
      "Group 234: matrix shape (207, 1071), matches 209\n",
      "Group 235: matrix shape (357, 1108), matches 359\n",
      "Group 236: matrix shape (1, 18), matches 1\n",
      "Group 237: matrix shape (10, 79), matches 10\n",
      "Group 238: matrix shape (118, 838), matches 120\n",
      "Group 239: matrix shape (288, 1432), matches 290\n",
      "Group 240: matrix shape (20, 189), matches 20\n",
      "Group 241: matrix shape (7, 58), matches 7\n",
      "Group 242: matrix shape (4, 43), matches 4\n",
      "Group 243: matrix shape (3, 39), matches 3\n",
      "Group 244: matrix shape (7, 54), matches 7\n",
      "Group 245: matrix shape (1, 11), matches 1\n",
      "Group 246: matrix shape (215, 1302), matches 217\n",
      "Group 247: matrix shape (1798, 4686), matches 1826\n",
      "Group 248: matrix shape (1, 10), matches 1\n",
      "Group 249: matrix shape (1, 13), matches 1\n",
      "Group 250: matrix shape (18, 167), matches 18\n",
      "Group 251: matrix shape (170, 1077), matches 170\n",
      "Group 252: matrix shape (872, 2857), matches 886\n",
      "Group 253: matrix shape (3, 26), matches 3\n",
      "Group 254: matrix shape (332, 1690), matches 332\n",
      "Group 255: matrix shape (6, 79), matches 6\n",
      "Group 256: matrix shape (1, 17), matches 1\n",
      "Group 257: matrix shape (86, 689), matches 86\n",
      "Group 258: matrix shape (19, 199), matches 19\n",
      "Group 259: matrix shape (10, 99), matches 10\n",
      "Group 260: matrix shape (3, 33), matches 3\n",
      "Group 261: matrix shape (9, 88), matches 9\n",
      "Group 262: matrix shape (3, 33), matches 3\n",
      "Group 263: matrix shape (1, 15), matches 1\n",
      "Group 264: matrix shape (4, 33), matches 4\n",
      "Group 265: matrix shape (61, 465), matches 61\n",
      "Group 266: matrix shape (309, 1612), matches 311\n",
      "Group 267: matrix shape (1, 19), matches 1\n",
      "Group 268: matrix shape (90, 710), matches 90\n",
      "Group 269: matrix shape (17, 122), matches 17\n",
      "Group 270: matrix shape (5, 54), matches 5\n",
      "Group 271: matrix shape (511, 2139), matches 519\n",
      "Group 272: matrix shape (1, 11), matches 1\n",
      "Group 273: matrix shape (74, 568), matches 74\n",
      "Group 274: matrix shape (11, 122), matches 11\n",
      "Group 275: matrix shape (1, 18), matches 1\n",
      "Group 276: matrix shape (1, 15), matches 1\n",
      "Group 277: matrix shape (1, 18), matches 1\n",
      "Group 278: matrix shape (4, 40), matches 4\n",
      "Group 279: matrix shape (24, 210), matches 24\n",
      "Group 280: matrix shape (1, 12), matches 1\n",
      "Group 281: matrix shape (1, 11), matches 1\n",
      "Group 282: matrix shape (3, 33), matches 3\n",
      "Group 283: matrix shape (6, 63), matches 6\n",
      "Group 284: matrix shape (15, 100), matches 15\n",
      "Group 285: matrix shape (4, 47), matches 4\n",
      "Group 286: matrix shape (2, 18), matches 2\n",
      "Group 287: matrix shape (2, 23), matches 2\n",
      "Group 288: matrix shape (1, 13), matches 1\n",
      "Group 289: matrix shape (7, 64), matches 7\n",
      "Group 290: matrix shape (129, 855), matches 129\n",
      "Group 291: matrix shape (25, 214), matches 25\n",
      "Group 292: matrix shape (19, 146), matches 19\n",
      "Group 293: matrix shape (25, 187), matches 25\n",
      "Group 294: matrix shape (32, 288), matches 32\n",
      "Group 295: matrix shape (8, 87), matches 8\n",
      "Group 296: matrix shape (5, 63), matches 5\n",
      "Group 297: matrix shape (3, 37), matches 3\n",
      "Group 298: matrix shape (4, 41), matches 4\n",
      "Group 299: matrix shape (3, 45), matches 3\n",
      "Group 300: matrix shape (13, 101), matches 13\n",
      "Group 301: matrix shape (1, 12), matches 1\n",
      "Group 302: matrix shape (2, 28), matches 2\n",
      "Group 303: matrix shape (11, 86), matches 11\n",
      "Group 304: matrix shape (1, 12), matches 1\n",
      "Group 305: matrix shape (107, 701), matches 107\n",
      "Group 306: matrix shape (576, 2396), matches 586\n",
      "Group 307: matrix shape (376, 1662), matches 382\n",
      "Group 308: matrix shape (150, 802), matches 152\n",
      "Group 309: matrix shape (184, 1020), matches 190\n",
      "Group 310: matrix shape (2, 24), matches 2\n",
      "Group 311: matrix shape (39, 344), matches 41\n",
      "Group 312: matrix shape (144, 888), matches 146\n",
      "Group 313: matrix shape (28, 231), matches 30\n",
      "Group 314: matrix shape (2, 19), matches 2\n",
      "Group 315: matrix shape (2, 29), matches 2\n",
      "Group 316: matrix shape (1, 9), matches 1\n",
      "Group 317: matrix shape (2, 16), matches 2\n",
      "Group 318: matrix shape (2, 9), matches 2\n",
      "Group 319: matrix shape (1, 13), matches 1\n",
      "Group 320: matrix shape (196, 433), matches 200\n",
      "Group 321: matrix shape (58, 311), matches 58\n",
      "Group 322: matrix shape (4, 40), matches 4\n",
      "Group 323: matrix shape (3, 19), matches 3\n",
      "Group 324: matrix shape (111, 714), matches 111\n",
      "Group 325: matrix shape (508, 2290), matches 516\n",
      "Group 326: matrix shape (1, 17), matches 1\n",
      "Group 327: matrix shape (143, 990), matches 143\n",
      "Group 328: matrix shape (6, 70), matches 6\n",
      "Group 329: matrix shape (233, 1187), matches 237\n",
      "Group 330: matrix shape (2, 21), matches 2\n",
      "Group 331: matrix shape (566, 2305), matches 568\n",
      "Group 332: matrix shape (175, 922), matches 175\n",
      "Group 333: matrix shape (65, 414), matches 65\n",
      "Group 334: matrix shape (1, 12), matches 1\n",
      "Group 335: matrix shape (17, 138), matches 17\n",
      "Group 336: matrix shape (3, 29), matches 3\n",
      "Group 337: matrix shape (3, 46), matches 3\n",
      "Group 338: matrix shape (11, 83), matches 11\n",
      "Group 339: matrix shape (155, 948), matches 157\n",
      "Group 340: matrix shape (630, 2527), matches 638\n",
      "Group 341: matrix shape (1, 8), matches 1\n",
      "Group 342: matrix shape (60, 356), matches 62\n",
      "Group 343: matrix shape (343, 1785), matches 343\n",
      "Group 344: matrix shape (629, 2097), matches 635\n",
      "Group 345: matrix shape (318, 1582), matches 326\n",
      "Group 346: matrix shape (2, 27), matches 2\n",
      "Group 347: matrix shape (4, 47), matches 4\n",
      "Group 348: matrix shape (9, 87), matches 9\n",
      "Group 349: matrix shape (7, 74), matches 7\n",
      "Group 350: matrix shape (12, 134), matches 12\n",
      "Group 351: matrix shape (183, 1143), matches 185\n",
      "Group 352: matrix shape (10, 113), matches 10\n",
      "Group 353: matrix shape (51, 403), matches 51\n",
      "Group 354: matrix shape (2, 20), matches 2\n",
      "Group 355: matrix shape (471, 1787), matches 501\n",
      "Group 356: matrix shape (251, 1287), matches 255\n",
      "Group 357: matrix shape (21, 174), matches 21\n",
      "Group 358: matrix shape (16, 164), matches 16\n",
      "Group 359: matrix shape (39, 338), matches 39\n",
      "Group 360: matrix shape (5, 40), matches 5\n",
      "Group 361: matrix shape (2, 18), matches 2\n",
      "Group 362: matrix shape (26, 197), matches 26\n",
      "Group 363: matrix shape (1, 15), matches 1\n",
      "Group 364: matrix shape (1, 9), matches 1\n",
      "Group 365: matrix shape (2, 23), matches 2\n",
      "Group 366: matrix shape (5, 53), matches 5\n",
      "Group 367: matrix shape (1, 15), matches 1\n",
      "Group 368: matrix shape (2, 27), matches 2\n",
      "Group 369: matrix shape (81, 547), matches 81\n",
      "Group 370: matrix shape (282, 1446), matches 282\n",
      "Group 371: matrix shape (1, 19), matches 1\n",
      "Group 372: matrix shape (83, 631), matches 85\n",
      "Group 373: matrix shape (340, 1632), matches 342\n",
      "Group 374: matrix shape (278, 1167), matches 282\n",
      "Group 375: matrix shape (1, 15), matches 1\n",
      "Group 376: matrix shape (280, 1456), matches 282\n",
      "Group 377: matrix shape (56, 408), matches 56\n",
      "Group 378: matrix shape (26, 214), matches 26\n",
      "Group 379: matrix shape (39, 274), matches 39\n",
      "Group 380: matrix shape (1, 11), matches 1\n",
      "Group 381: matrix shape (1, 17), matches 1\n",
      "Group 382: matrix shape (14, 105), matches 14\n",
      "Group 383: matrix shape (10, 84), matches 10\n",
      "Group 384: matrix shape (1, 10), matches 1\n",
      "Group 385: matrix shape (1, 12), matches 1\n",
      "Group 386: matrix shape (7, 68), matches 7\n",
      "Group 387: matrix shape (1, 12), matches 1\n",
      "Group 388: matrix shape (6, 59), matches 6\n",
      "Group 389: matrix shape (2, 27), matches 2\n",
      "Group 390: matrix shape (5, 47), matches 5\n",
      "Group 391: matrix shape (23, 198), matches 23\n",
      "Group 392: matrix shape (11, 100), matches 11\n",
      "Group 393: matrix shape (3, 44), matches 3\n",
      "Group 394: matrix shape (3, 33), matches 3\n",
      "Group 395: matrix shape (17, 144), matches 17\n",
      "Group 396: matrix shape (1, 13), matches 1\n",
      "Group 397: matrix shape (8, 78), matches 8\n",
      "Group 398: matrix shape (9, 67), matches 9\n",
      "Group 399: matrix shape (3, 35), matches 3\n",
      "Group 400: matrix shape (3, 36), matches 3\n",
      "Group 401: matrix shape (46, 391), matches 46\n",
      "Group 402: matrix shape (159, 1110), matches 161\n",
      "Group 403: matrix shape (50, 432), matches 50\n",
      "Group 404: matrix shape (340, 1674), matches 348\n",
      "Group 405: matrix shape (55, 387), matches 55\n",
      "Group 406: matrix shape (24, 185), matches 24\n",
      "Group 407: matrix shape (1, 9), matches 1\n",
      "Group 408: matrix shape (1, 16), matches 1\n",
      "Group 409: matrix shape (6, 54), matches 6\n",
      "Group 410: matrix shape (8, 99), matches 8\n",
      "Group 411: matrix shape (3, 21), matches 3\n",
      "Group 412: matrix shape (1, 15), matches 1\n",
      "Group 413: matrix shape (2, 25), matches 2\n",
      "Group 414: matrix shape (11, 84), matches 11\n",
      "Group 415: matrix shape (30, 286), matches 30\n",
      "Group 416: matrix shape (95, 636), matches 95\n",
      "Group 417: matrix shape (318, 689), matches 324\n",
      "Group 418: matrix shape (4, 32), matches 4\n",
      "Group 419: matrix shape (181, 984), matches 185\n",
      "Group 420: matrix shape (1, 16), matches 1\n",
      "Group 421: matrix shape (63, 432), matches 63\n",
      "Group 422: matrix shape (1, 12), matches 1\n",
      "Group 423: matrix shape (6, 46), matches 6\n",
      "Group 424: matrix shape (7, 47), matches 7\n",
      "Group 425: matrix shape (33, 230), matches 33\n",
      "Group 426: matrix shape (1, 18), matches 1\n",
      "Group 427: matrix shape (469, 643), matches 475\n",
      "Group 428: matrix shape (1, 8), matches 1\n",
      "Group 429: matrix shape (105, 318), matches 109\n",
      "Group 430: matrix shape (4, 30), matches 4\n",
      "Group 431: matrix shape (38, 242), matches 38\n",
      "Group 432: matrix shape (351, 1227), matches 357\n",
      "Group 433: matrix shape (59, 424), matches 59\n",
      "Group 434: matrix shape (1, 11), matches 1\n",
      "Group 435: matrix shape (288, 561), matches 294\n",
      "Group 436: matrix shape (2, 28), matches 2\n",
      "Group 437: matrix shape (214, 974), matches 216\n",
      "Group 438: matrix shape (459, 1185), matches 465\n",
      "Group 439: matrix shape (19, 143), matches 19\n",
      "Group 440: matrix shape (1, 8), matches 1\n",
      "Group 441: matrix shape (21, 128), matches 21\n",
      "Group 442: matrix shape (58, 397), matches 60\n",
      "Group 443: matrix shape (8, 73), matches 8\n",
      "Group 444: matrix shape (5, 49), matches 5\n",
      "Group 445: matrix shape (44, 265), matches 46\n",
      "Group 446: matrix shape (385, 657), matches 387\n",
      "Group 447: matrix shape (60, 258), matches 60\n",
      "Group 448: matrix shape (31, 267), matches 31\n",
      "Group 449: matrix shape (1, 11), matches 1\n",
      "Group 450: matrix shape (4, 41), matches 4\n",
      "Group 451: matrix shape (12, 92), matches 12\n",
      "Group 452: matrix shape (2, 20), matches 2\n",
      "Group 453: matrix shape (1, 10), matches 1\n",
      "Group 454: matrix shape (1, 16), matches 1\n",
      "Number of authors after disambiguation: 37022\n"
     ]
    },
    {
     "name": "stderr",
     "output_type": "stream",
     "text": [
      "2025-08-04 21:48:36,663 - MSTML - INFO - Author disambiguation completed on 26452 documents\n"
     ]
    },
    {
     "name": "stdout",
     "output_type": "stream",
     "text": [
      "Data successfully written to 'C:\\Users\\conra\\Documents\\GitHub\\Multi-Scale-Topic-Manifold-Learning\\data\\arxiv\\clean\\main_df.pkl'.\n"
     ]
    },
    {
     "name": "stderr",
     "output_type": "stream",
     "text": [
      "2025-08-04 21:48:40,132 - MSTML - INFO - Updated main_df.pkl in both clean directory and experiment directory (26452 rows)\n"
     ]
    },
    {
     "name": "stdout",
     "output_type": "stream",
     "text": [
      "Data successfully written to 'C:\\Users\\conra\\Documents\\GitHub\\Multi-Scale-Topic-Manifold-Learning\\experiments\\mstml_08042025_2145\\main_df.pkl'.\n"
     ]
    },
    {
     "data": {
      "text/plain": [
       "<mstml.core.MstmlOrchestrator at 0x1d45088dae0>"
      ]
     },
     "execution_count": 11,
     "metadata": {},
     "output_type": "execute_result"
    }
   ],
   "execution_count": 11
  },
  {
   "metadata": {
    "ExecuteTime": {
     "end_time": "2025-08-05T03:48:46.330022Z",
     "start_time": "2025-08-05T03:48:46.302961Z"
    }
   },
   "cell_type": "code",
   "source": "orch.documents_df.tail()",
   "id": "9c836cdcf9a0dbdd",
   "outputs": [
    {
     "data": {
      "text/plain": [
       "                                                    title       date  \\\n",
       "791227  Gap Safe screening rules for sparsity enforcin... 2017-12-29   \n",
       "927586         Learning to Run with Actor-Critic Ensemble 2017-12-29   \n",
       "927931  Predicting protein-protein interactions based ... 2017-12-29   \n",
       "872374  An Online Learning Approach to Buying and Sell... 2017-12-29   \n",
       "928598  Parallel Active Subspace Decomposition for Sca... 2017-12-29   \n",
       "\n",
       "                                                 raw_text  \\\n",
       "791227  In high dimensional regression settings, spars...   \n",
       "927586  We introduce an Actor-Critic Ensemble(ACE) met...   \n",
       "927931  Protein-Protein Interactions (PPIs) perform es...   \n",
       "872374  We adopt the perspective of an aggregator, whi...   \n",
       "928598  Tensor robust principal component analysis (TR...   \n",
       "\n",
       "                                             author_names  \\\n",
       "791227  [EUGENE, NDIAYE, OLIVIER, FERCOQ, ALEXANDRE, G...   \n",
       "927586  [ZHEWEI, HUANG, SHUCHANG, ZHOU, BOER, ZHUANG, ...   \n",
       "927931  [SAMANEH, AGHAJANBAGLO, SOBHAN, MOOSAVI, MASEU...   \n",
       "872374                      [KIA, KHEZELI, EILYAN, BITAR]   \n",
       "928598               [JONATHAN Q., JIANG, MICHAEL K., NG]   \n",
       "\n",
       "                                  author_ids  \\\n",
       "791227  [6713798, 4082153, 2528862, 6414939]   \n",
       "927586  [5279200, 3233547, 5353604, 1745488]   \n",
       "927931  [6927599, 1631281, 9503693, 3138953]   \n",
       "872374                    [4823052, 3571696]   \n",
       "928598                    [7026759, 6165296]   \n",
       "\n",
       "                                        preprocessed_text  \\\n",
       "791227  [high, dimensional, regression, setting, spars...   \n",
       "927586  [introduce, actor, ensemble, ace, method, impr...   \n",
       "927931  [protein, protein, interaction, perform, essen...   \n",
       "872374  [adopt, perspective, seek, coordinate, purchas...   \n",
       "928598  [tensor, robust, principal, component, analysi...   \n",
       "\n",
       "                                categories  \\\n",
       "791227  [stat.ML, cs.LG, math.OC, stat.CO]   \n",
       "927586                             [cs.LG]   \n",
       "927931                   [q-bio.QM, cs.LG]   \n",
       "872374                      [cs.SY, cs.LG]   \n",
       "928598             [cs.NA, cs.LG, math.NA]   \n",
       "\n",
       "                                           text_processed  \n",
       "791227  [in, high, dimensional, regression, settings, ...  \n",
       "927586  [we, introduce, an, actor, critic, ensemble, a...  \n",
       "927931  [protein, protein, interactions, ppis, perform...  \n",
       "872374  [we, adopt, the, perspective, of, an, aggregat...  \n",
       "928598  [tensor, robust, principal, component, analysi...  "
      ],
      "text/html": [
       "<div>\n",
       "<style scoped>\n",
       "    .dataframe tbody tr th:only-of-type {\n",
       "        vertical-align: middle;\n",
       "    }\n",
       "\n",
       "    .dataframe tbody tr th {\n",
       "        vertical-align: top;\n",
       "    }\n",
       "\n",
       "    .dataframe thead th {\n",
       "        text-align: right;\n",
       "    }\n",
       "</style>\n",
       "<table border=\"1\" class=\"dataframe\">\n",
       "  <thead>\n",
       "    <tr style=\"text-align: right;\">\n",
       "      <th></th>\n",
       "      <th>title</th>\n",
       "      <th>date</th>\n",
       "      <th>raw_text</th>\n",
       "      <th>author_names</th>\n",
       "      <th>author_ids</th>\n",
       "      <th>preprocessed_text</th>\n",
       "      <th>categories</th>\n",
       "      <th>text_processed</th>\n",
       "    </tr>\n",
       "  </thead>\n",
       "  <tbody>\n",
       "    <tr>\n",
       "      <th>791227</th>\n",
       "      <td>Gap Safe screening rules for sparsity enforcin...</td>\n",
       "      <td>2017-12-29</td>\n",
       "      <td>In high dimensional regression settings, spars...</td>\n",
       "      <td>[EUGENE, NDIAYE, OLIVIER, FERCOQ, ALEXANDRE, G...</td>\n",
       "      <td>[6713798, 4082153, 2528862, 6414939]</td>\n",
       "      <td>[high, dimensional, regression, setting, spars...</td>\n",
       "      <td>[stat.ML, cs.LG, math.OC, stat.CO]</td>\n",
       "      <td>[in, high, dimensional, regression, settings, ...</td>\n",
       "    </tr>\n",
       "    <tr>\n",
       "      <th>927586</th>\n",
       "      <td>Learning to Run with Actor-Critic Ensemble</td>\n",
       "      <td>2017-12-29</td>\n",
       "      <td>We introduce an Actor-Critic Ensemble(ACE) met...</td>\n",
       "      <td>[ZHEWEI, HUANG, SHUCHANG, ZHOU, BOER, ZHUANG, ...</td>\n",
       "      <td>[5279200, 3233547, 5353604, 1745488]</td>\n",
       "      <td>[introduce, actor, ensemble, ace, method, impr...</td>\n",
       "      <td>[cs.LG]</td>\n",
       "      <td>[we, introduce, an, actor, critic, ensemble, a...</td>\n",
       "    </tr>\n",
       "    <tr>\n",
       "      <th>927931</th>\n",
       "      <td>Predicting protein-protein interactions based ...</td>\n",
       "      <td>2017-12-29</td>\n",
       "      <td>Protein-Protein Interactions (PPIs) perform es...</td>\n",
       "      <td>[SAMANEH, AGHAJANBAGLO, SOBHAN, MOOSAVI, MASEU...</td>\n",
       "      <td>[6927599, 1631281, 9503693, 3138953]</td>\n",
       "      <td>[protein, protein, interaction, perform, essen...</td>\n",
       "      <td>[q-bio.QM, cs.LG]</td>\n",
       "      <td>[protein, protein, interactions, ppis, perform...</td>\n",
       "    </tr>\n",
       "    <tr>\n",
       "      <th>872374</th>\n",
       "      <td>An Online Learning Approach to Buying and Sell...</td>\n",
       "      <td>2017-12-29</td>\n",
       "      <td>We adopt the perspective of an aggregator, whi...</td>\n",
       "      <td>[KIA, KHEZELI, EILYAN, BITAR]</td>\n",
       "      <td>[4823052, 3571696]</td>\n",
       "      <td>[adopt, perspective, seek, coordinate, purchas...</td>\n",
       "      <td>[cs.SY, cs.LG]</td>\n",
       "      <td>[we, adopt, the, perspective, of, an, aggregat...</td>\n",
       "    </tr>\n",
       "    <tr>\n",
       "      <th>928598</th>\n",
       "      <td>Parallel Active Subspace Decomposition for Sca...</td>\n",
       "      <td>2017-12-29</td>\n",
       "      <td>Tensor robust principal component analysis (TR...</td>\n",
       "      <td>[JONATHAN Q., JIANG, MICHAEL K., NG]</td>\n",
       "      <td>[7026759, 6165296]</td>\n",
       "      <td>[tensor, robust, principal, component, analysi...</td>\n",
       "      <td>[cs.NA, cs.LG, math.NA]</td>\n",
       "      <td>[tensor, robust, principal, component, analysi...</td>\n",
       "    </tr>\n",
       "  </tbody>\n",
       "</table>\n",
       "</div>"
      ]
     },
     "execution_count": 13,
     "metadata": {},
     "output_type": "execute_result"
    }
   ],
   "execution_count": 13
  },
  {
   "metadata": {},
   "cell_type": "code",
   "source": "raise Exception(\"Stop here\")",
   "id": "20e700b599faf6d3",
   "outputs": [],
   "execution_count": null
  },
  {
   "metadata": {},
   "cell_type": "code",
   "source": "orch.setup_coauthor_network()",
   "id": "8a028f37705100a9",
   "outputs": [],
   "execution_count": null
  },
  {
   "metadata": {},
   "cell_type": "code",
   "source": "orch.create_temporal_chunks(months_per_chunk=1)",
   "id": "67b438cbde675e2d",
   "outputs": [],
   "execution_count": null
  },
  {
   "metadata": {},
   "cell_type": "code",
   "source": "orch.train_ensemble_models()",
   "id": "9d2bb6795c763239",
   "outputs": [],
   "execution_count": null
  },
  {
   "metadata": {},
   "cell_type": "code",
   "source": "orch.build_topic_manifold()",
   "id": "5189394e6ff85359",
   "outputs": [],
   "execution_count": null
  },
  {
   "metadata": {},
   "cell_type": "code",
   "source": "orch.compute_author_embeddings()",
   "id": "3740943ec0fafb97",
   "outputs": [],
   "execution_count": null
  },
  {
   "metadata": {},
   "cell_type": "code",
   "source": "",
   "id": "9c02650e9b069672",
   "outputs": [],
   "execution_count": null
  },
  {
   "metadata": {},
   "cell_type": "code",
   "source": [
    "# Save results\n",
    "results_path = orch.finalize_experiment()\n",
    "print(f\"Analysis complete! Results saved to: {results_path}\")"
   ],
   "id": "ede559eea885cef5",
   "outputs": [],
   "execution_count": null
  }
 ],
 "metadata": {
  "kernelspec": {
   "display_name": "Python 3",
   "language": "python",
   "name": "python3"
  },
  "language_info": {
   "codemirror_mode": {
    "name": "ipython",
    "version": 2
   },
   "file_extension": ".py",
   "mimetype": "text/x-python",
   "name": "python",
   "nbconvert_exporter": "python",
   "pygments_lexer": "ipython2",
   "version": "2.7.6"
  }
 },
 "nbformat": 4,
 "nbformat_minor": 5
}
