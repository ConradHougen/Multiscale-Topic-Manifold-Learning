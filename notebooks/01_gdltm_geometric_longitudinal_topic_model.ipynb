{
 "cells": [
  {
   "metadata": {},
   "cell_type": "markdown",
   "source": [
    "# A Geometry-Driven Longitudinal Topic Model (GDLTM)\n",
    "\n",
    "This notebook demonstrates a basic call flow for longitudinal topic modeling based on the paper by Wang, Hougen, et. al. 2021 that appeared in Harvard Data Science Review (HDSR) with the title \"A Geometry-Driven Longitudinal Topic Model\".\n",
    "\n",
    "The GDLTM model is the topic modeling framework that feeds into Multiscale Topic Manifold Learning (MSTML), which extends GDLTM by addressing problems in relational topic modeling (RTM), which involve relational (network) data in conjunction with text data.\n",
    "\n",
    "GDLTM advanced the temporal topic modeling field by demonstrating the advantages of Hellinger-PHATE manifold learning in conjunction with interpretable, probabilistic models like the popular Latent Dirichlet Allocation (LDA). LDA uses a bag-of-words model for documents and treats documents as mixtures of topics. Using Bayesian networks and Bayesian inference, LDA infers the structures of latent topics as word-frequency multinomial distributions. Simultaneously, documents are represented as multinomial distributions over the latent topics. GDLTM provides advanced topic modeling which performs alignment of topics over time, after dividing a text corpus into chunks by time (e.g. publication date, though any relevant date could be used). Topic alignment over time is then visualized using Hellinger-PHATE manifolds. Hellinger-PHATE manifolds over LDA topics were found to be particularly effective at visualizing complex temporal changes within document corpora while remaining computationally simple compared to prior probabilistic methods. The resultant visualizations map topics into an intuitive embedding space that can be interpreted in a straightforward way using direct translation into word clouds and learned topic trajectories using standard shortest path algorithms. More details of the method are described in the HDSR 2021 paper."
   ],
   "id": "5fcc6efaf0fa9c1e"
  },
  {
   "metadata": {},
   "cell_type": "code",
   "source": [
    "import os.path\n",
    "\n",
    "from mstml._file_driver import read_pickle\n",
    "from mstml.core import MstmlOrchestrator"
   ],
   "id": "initial_id",
   "outputs": [],
   "execution_count": null
  },
  {
   "metadata": {},
   "cell_type": "code",
   "source": [
    "# Set dataset name (matches directory name within data/)\n",
    "dataset_name = \"arxiv\"\n",
    "\n",
    "data_filters = {\n",
    "    'categories':\n",
    "        ['stat.AP',\n",
    "         'stat.CO',\n",
    "         'stat.ME',\n",
    "         'stat.OT',\n",
    "         'stat.TH',\n",
    "         'cs.LG']\n",
    "}\n",
    "\n",
    "arxiv_schema_map = {'abstract': 'raw_text',\n",
    "                    'update_date': 'date',\n",
    "                    'authors_parsed': 'authors'}"
   ],
   "id": "3b86cf01c7953761",
   "outputs": [],
   "execution_count": null
  },
  {
   "metadata": {},
   "cell_type": "code",
   "source": [
    "orch = MstmlOrchestrator(dataset_name=dataset_name)\n",
    "\n",
    "orch.configure_data_filters(\n",
    "    date_range={'start': '2016-01-01', 'end': '2017-12-31'},\n",
    "    categories=data_filters['categories'],\n",
    ")\n"
   ],
   "id": "49124053b1e2c645",
   "outputs": [],
   "execution_count": null
  },
  {
   "metadata": {},
   "cell_type": "code",
   "source": [
    "orch.load_raw_data(input_schema_map=arxiv_schema_map,\n",
    "                   overwrite=True)"
   ],
   "id": "42a56002b4812b97",
   "outputs": [],
   "execution_count": null
  },
  {
   "metadata": {},
   "cell_type": "code",
   "source": "orch.apply_data_filters()",
   "id": "5c49ece254242a19",
   "outputs": [],
   "execution_count": null
  },
  {
   "metadata": {},
   "cell_type": "code",
   "source": "len(orch.documents_df)",
   "id": "b51a095bcf8e84d9",
   "outputs": [],
   "execution_count": null
  },
  {
   "metadata": {},
   "cell_type": "code",
   "source": "orch.documents_df.tail()",
   "id": "dabad7009e23413b",
   "outputs": [],
   "execution_count": null
  },
  {
   "metadata": {},
   "cell_type": "code",
   "source": "orch.preprocess_text()",
   "id": "af06bb40d56d50af",
   "outputs": [],
   "execution_count": null
  },
  {
   "metadata": {},
   "cell_type": "code",
   "source": "orch.apply_author_disambiguation()",
   "id": "5a8b35bbe3f73552",
   "outputs": [],
   "execution_count": null
  },
  {
   "metadata": {},
   "cell_type": "code",
   "source": "orch.documents_df.tail()",
   "id": "9c836cdcf9a0dbdd",
   "outputs": [],
   "execution_count": null
  },
  {
   "metadata": {},
   "cell_type": "code",
   "source": "orch.setup_coauthor_network(temporal=True)",
   "id": "8a028f37705100a9",
   "outputs": [],
   "execution_count": null
  },
  {
   "metadata": {},
   "cell_type": "code",
   "source": "orch.create_temporal_chunks(months_per_chunk=1)",
   "id": "67b438cbde675e2d",
   "outputs": [],
   "execution_count": null
  },
  {
   "metadata": {},
   "cell_type": "code",
   "source": "orch.train_ensemble_models()",
   "id": "9d2bb6795c763239",
   "outputs": [],
   "execution_count": null
  },
  {
   "metadata": {},
   "cell_type": "code",
   "source": "orch.build_topic_manifold()",
   "id": "5189394e6ff85359",
   "outputs": [],
   "execution_count": null
  },
  {
   "metadata": {},
   "cell_type": "code",
   "source": "orch.create_topic_embedding()",
   "id": "af0cee7e3060e887",
   "outputs": [],
   "execution_count": null
  },
  {
   "metadata": {},
   "cell_type": "code",
   "source": "orch.display_topic_embedding(color_by='meta_topic')",
   "id": "db2777d6177e341d",
   "outputs": [],
   "execution_count": null
  },
  {
   "metadata": {},
   "cell_type": "code",
   "source": "orch.save_topic_embedding()",
   "id": "d5aaef412a02a92b",
   "outputs": [],
   "execution_count": null
  },
  {
   "metadata": {},
   "cell_type": "code",
   "source": "raise Exception(\"Stop here\")",
   "id": "20e700b599faf6d3",
   "outputs": [],
   "execution_count": null
  },
  {
   "metadata": {},
   "cell_type": "code",
   "source": "",
   "id": "9c02650e9b069672",
   "outputs": [],
   "execution_count": null
  },
  {
   "metadata": {},
   "cell_type": "code",
   "source": [
    "# Save results\n",
    "results_path = orch.finalize_experiment()\n",
    "print(f\"Analysis complete! Results saved to: {results_path}\")"
   ],
   "id": "ede559eea885cef5",
   "outputs": [],
   "execution_count": null
  }
 ],
 "metadata": {
  "kernelspec": {
   "display_name": "Python 3",
   "language": "python",
   "name": "python3"
  },
  "language_info": {
   "codemirror_mode": {
    "name": "ipython",
    "version": 2
   },
   "file_extension": ".py",
   "mimetype": "text/x-python",
   "name": "python",
   "nbconvert_exporter": "python",
   "pygments_lexer": "ipython2",
   "version": "2.7.6"
  }
 },
 "nbformat": 4,
 "nbformat_minor": 5
}
