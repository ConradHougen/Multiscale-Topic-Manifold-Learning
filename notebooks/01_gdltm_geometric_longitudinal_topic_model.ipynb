{
 "cells": [
  {
   "cell_type": "markdown",
   "id": "5fcc6efaf0fa9c1e",
   "metadata": {},
   "source": [
    "# A Geometry-Driven Longitudinal Topic Model (GDLTM)\n",
    "\n",
    "This notebook demonstrates a basic call flow for longitudinal topic modeling based on the paper by Wang, Hougen, et. al. 2021 that appeared in Harvard Data Science Review (HDSR) with the title \"A Geometry-Driven Longitudinal Topic Model\".\n",
    "\n",
    "The GDLTM model is the topic modeling framework that feeds into Multiscale Topic Manifold Learning (MSTML), which extends GDLTM by addressing problems in relational topic modeling (RTM), which involve relational (network) data in conjunction with text data.\n",
    "\n",
    "GDLTM advanced the temporal topic modeling field by demonstrating the advantages of Hellinger-PHATE manifold learning in conjunction with interpretable, probabilistic models like the popular Latent Dirichlet Allocation (LDA). LDA uses a bag-of-words model for documents and treats documents as mixtures of topics. Using Bayesian networks and Bayesian inference, LDA infers the structures of latent topics as word-frequency multinomial distributions. Simultaneously, documents are represented as multinomial distributions over the latent topics. GDLTM provides advanced topic modeling which performs alignment of topics over time, after dividing a text corpus into chunks by time (e.g. publication date, though any relevant date could be used). Topic alignment over time is then visualized using Hellinger-PHATE manifolds. Hellinger-PHATE manifolds over LDA topics were found to be particularly effective at visualizing complex temporal changes within document corpora while remaining computationally simple compared to prior probabilistic methods. The resultant visualizations map topics into an intuitive embedding space that can be interpreted in a straightforward way using direct translation into word clouds and learned topic trajectories using standard shortest path algorithms. More details of the method are described in the HDSR 2021 paper."
   ]
  },
  {
   "cell_type": "code",
   "execution_count": null,
   "id": "initial_id",
   "metadata": {},
   "outputs": [],
   "source": [
    "import os.path\n",
    "\n",
    "from mstml._file_driver import read_pickle\n",
    "from mstml.core import MstmlOrchestrator"
   ]
  },
  {
   "cell_type": "code",
   "execution_count": null,
   "id": "3b86cf01c7953761",
   "metadata": {},
   "outputs": [],
   "source": [
    "# Set dataset name (matches directory name within data/)\n",
    "dataset_name = \"arxiv\"\n",
    "\n",
    "data_filters = {\n",
    "    'categories':\n",
    "        ['stat.AP',\n",
    "         'stat.CO',\n",
    "         'stat.ME',\n",
    "         'stat.OT',\n",
    "         'stat.TH',\n",
    "         'cs.LG']\n",
    "}\n",
    "\n",
    "arxiv_schema_map = {'abstract': 'raw_text',\n",
    "                    'update_date': 'date',\n",
    "                    'authors_parsed': 'authors'}"
   ]
  },
  {
   "cell_type": "code",
   "execution_count": null,
   "id": "49124053b1e2c645",
   "metadata": {},
   "outputs": [],
   "source": [
    "orch = MstmlOrchestrator(dataset_name=dataset_name)\n",
    "\n",
    "orch.configure_data_filters(\n",
    "    date_range={'start': '2016-01-01', 'end': '2017-12-31'},\n",
    "    categories=data_filters['categories'],\n",
    ")\n"
   ]
  },
  {
   "cell_type": "code",
   "execution_count": null,
   "id": "42a56002b4812b97",
   "metadata": {},
   "outputs": [],
   "source": [
    "orch.load_raw_data(input_schema_map=arxiv_schema_map,\n",
    "                   overwrite=True)"
   ]
  },
  {
   "cell_type": "code",
   "execution_count": null,
   "id": "5c49ece254242a19",
   "metadata": {},
   "outputs": [],
   "source": [
    "orch.apply_data_filters()"
   ]
  },
  {
   "cell_type": "code",
   "execution_count": null,
   "id": "b51a095bcf8e84d9",
   "metadata": {},
   "outputs": [],
   "source": [
    "len(orch.documents_df)"
   ]
  },
  {
   "cell_type": "code",
   "execution_count": null,
   "id": "dabad7009e23413b",
   "metadata": {},
   "outputs": [],
   "source": [
    "orch.documents_df.tail()"
   ]
  },
  {
   "cell_type": "code",
   "execution_count": null,
   "id": "af06bb40d56d50af",
   "metadata": {},
   "outputs": [],
   "source": [
    "orch.preprocess_text()"
   ]
  },
  {
   "cell_type": "code",
   "execution_count": null,
   "id": "5a8b35bbe3f73552",
   "metadata": {},
   "outputs": [],
   "source": [
    "orch.apply_author_disambiguation()"
   ]
  },
  {
   "cell_type": "code",
   "execution_count": null,
   "id": "9c836cdcf9a0dbdd",
   "metadata": {},
   "outputs": [],
   "source": [
    "orch.documents_df.tail()"
   ]
  },
  {
   "cell_type": "code",
   "execution_count": null,
   "id": "8a028f37705100a9",
   "metadata": {},
   "outputs": [],
   "source": [
    "orch.setup_coauthor_network(temporal=True)"
   ]
  },
  {
   "cell_type": "code",
   "execution_count": null,
   "id": "67b438cbde675e2d",
   "metadata": {},
   "outputs": [],
   "source": [
    "orch.create_temporal_chunks(months_per_chunk=1)"
   ]
  },
  {
   "cell_type": "code",
   "execution_count": null,
   "id": "9d2bb6795c763239",
   "metadata": {},
   "outputs": [],
   "source": [
    "orch.train_ensemble_models()"
   ]
  },
  {
   "cell_type": "code",
   "execution_count": null,
   "id": "5189394e6ff85359",
   "metadata": {},
   "outputs": [],
   "source": [
    "orch.build_topic_manifold()"
   ]
  },
  {
   "cell_type": "code",
   "execution_count": null,
   "id": "af0cee7e3060e887",
   "metadata": {},
   "outputs": [],
   "source": [
    "orch.create_topic_embedding()"
   ]
  },
  {
   "cell_type": "code",
   "execution_count": null,
   "id": "db2777d6177e341d",
   "metadata": {},
   "outputs": [],
   "source": [
    "orch.display_topic_embedding(color_by='meta_topic')"
   ]
  },
  {
   "cell_type": "code",
   "execution_count": null,
   "id": "d5aaef412a02a92b",
   "metadata": {},
   "outputs": [],
   "source": [
    "orch.save_topic_embedding()"
   ]
  },
  {
   "cell_type": "code",
   "execution_count": null,
   "id": "ede559eea885cef5",
   "metadata": {},
   "outputs": [],
   "source": [
    "# Save results\n",
    "results_path = orch.finalize_experiment()\n",
    "print(f\"Analysis complete! Results saved to: {results_path}\")"
   ]
  },
  {
   "cell_type": "code",
   "execution_count": null,
   "id": "1d120d7e",
   "metadata": {},
   "outputs": [],
   "source": []
  }
 ],
 "metadata": {
  "kernelspec": {
   "display_name": "mstml",
   "language": "python",
   "name": "python3"
  },
  "language_info": {
   "codemirror_mode": {
    "name": "ipython",
    "version": 3
   },
   "file_extension": ".py",
   "mimetype": "text/x-python",
   "name": "python",
   "nbconvert_exporter": "python",
   "pygments_lexer": "ipython3",
   "version": "3.10.18"
  }
 },
 "nbformat": 4,
 "nbformat_minor": 5
}
